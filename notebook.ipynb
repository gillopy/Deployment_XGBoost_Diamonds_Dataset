{
  "cells": [
    {
      "cell_type": "code",
      "execution_count": null,
      "id": "697f5e24-8c4e-4e1c-a8ed-7a2498e2d12b",
      "metadata": {},
      "outputs": [],
      "source": [
        "import seaborn as sns\n",
        "import pandas as pd\n",
        "import numpy as np\n",
        "import matplotlib.pyplot as plt\n",
        "import warnings\n",
        "\n",
        "warnings.filterwarnings(\"ignore\")\n",
        "diamonds = sns.load_dataset(\"diamonds\")\n",
        "diamonds.head()"
      ]
    },
    {
      "cell_type": "code",
      "execution_count": null,
      "id": "1c023821-ad93-44a6-a4e5-997a6c3da7c6",
      "metadata": {},
      "outputs": [],
      "source": [
        "diamonds.shape"
      ]
    },
    {
      "cell_type": "code",
      "execution_count": null,
      "id": "b994ba2e-d1b7-42ea-971b-99bbcc1ba7d8",
      "metadata": {},
      "outputs": [],
      "source": [
        "diamonds.describe()"
      ]
    },
    {
      "cell_type": "code",
      "execution_count": null,
      "id": "ba8f9655-0378-4d6d-a4cb-03b0887aa350",
      "metadata": {},
      "outputs": [],
      "source": [
        "diamonds.describe(exclude=np.number)"
      ]
    },
    {
      "cell_type": "code",
      "execution_count": 5,
      "id": "0553fabb-32c0-4e73-8457-1c6b66af9f96",
      "metadata": {},
      "outputs": [],
      "source": [
        "from sklearn.model_selection import train_test_split\n",
        "\n",
        "# Extract feature and target arrays\n",
        "X, y = diamonds.drop('price', axis=1), diamonds[['price']]"
      ]
    },
    {
      "cell_type": "code",
      "execution_count": 6,
      "id": "879a00bc-75c6-4c52-ae53-1cd8a4774e2d",
      "metadata": {},
      "outputs": [],
      "source": [
        "# Extract text features\n",
        "cats = X.select_dtypes(exclude=np.number).columns.tolist()\n",
        "\n",
        "# Convert to Pandas category\n",
        "for col in cats:\n",
        "   X[col] = X[col].astype('category')"
      ]
    },
    {
      "cell_type": "code",
      "execution_count": null,
      "id": "57a3022f-4522-4f26-9533-657df5ccf8e8",
      "metadata": {},
      "outputs": [],
      "source": [
        "X.dtypes"
      ]
    },
    {
      "cell_type": "code",
      "execution_count": 8,
      "id": "84f3aaab-994b-436f-9ede-ef2ec43f3824",
      "metadata": {},
      "outputs": [],
      "source": [
        "# Split the data\n",
        "X_train, X_test, y_train, y_test = train_test_split(X, y, random_state=1)"
      ]
    },
    {
      "cell_type": "code",
      "execution_count": 9,
      "id": "02691e29-7fbd-40c4-ba6f-968bb846cd02",
      "metadata": {},
      "outputs": [],
      "source": [
        "import xgboost as xgb\n",
        "\n",
        "# Create regression matrices\n",
        "dtrain_reg = xgb.DMatrix(X_train, y_train, enable_categorical=True)\n",
        "dtest_reg = xgb.DMatrix(X_test, y_test, enable_categorical=True)"
      ]
    },
    {
      "cell_type": "code",
      "execution_count": 10,
      "id": "d9e14817-1b13-4d96-93c9-e8154b8f3101",
      "metadata": {},
      "outputs": [],
      "source": [
        "# Define hyperparameters\n",
        "params = {\"objective\": \"reg:squarederror\", \"tree_method\": \"hist\"}\n",
        "\n",
        "# In case you have access to a GPU\n",
        "# params = {\"objective\": \"reg:squarederror\", \"tree_method\": \"gpu_hist\"}"
      ]
    },
    {
      "cell_type": "code",
      "execution_count": 11,
      "id": "d559836a-bc4d-486c-b655-613652d3a473",
      "metadata": {},
      "outputs": [],
      "source": [
        "n = 100\n",
        "model = xgb.train(\n",
        "   params=params,\n",
        "   dtrain=dtrain_reg,\n",
        "   num_boost_round=n,\n",
        ")"
      ]
    },
    {
      "cell_type": "code",
      "execution_count": 12,
      "id": "5133e0d5-0bba-4b3a-98ec-1c216d35d8a1",
      "metadata": {},
      "outputs": [],
      "source": [
        "from sklearn.metrics import mean_squared_error\n",
        "\n",
        "preds = model.predict(dtest_reg)"
      ]
    },
    {
      "cell_type": "code",
      "execution_count": null,
      "id": "4119ac45-fcb7-4e21-aafa-2f86277e8189",
      "metadata": {},
      "outputs": [],
      "source": [
        "rmse = mean_squared_error(y_test, preds, squared=False)\n",
        "\n",
        "print(f\"RMSE of the base model: {rmse:.3f}\")"
      ]
    },
    {
      "cell_type": "code",
      "execution_count": 14,
      "id": "7d187a35-c045-4aa0-bbb6-3bb77584a63d",
      "metadata": {},
      "outputs": [],
      "source": [
        "params = {\"objective\": \"reg:squarederror\", \"tree_method\": \"hist\"}\n",
        "n = 100"
      ]
    },
    {
      "cell_type": "code",
      "execution_count": 15,
      "id": "b632539c-d982-46e3-a6a0-dc5aea07c149",
      "metadata": {},
      "outputs": [],
      "source": [
        "evals = [(dtrain_reg, \"train\"), (dtest_reg, \"validation\")]"
      ]
    },
    {
      "cell_type": "code",
      "execution_count": null,
      "id": "a958e2ea-934a-41c3-84f2-925aad951080",
      "metadata": {},
      "outputs": [],
      "source": [
        "model = xgb.train(\n",
        "   params=params,\n",
        "   dtrain=dtrain_reg,\n",
        "   num_boost_round=n,\n",
        "   evals=evals,\n",
        ")"
      ]
    },
    {
      "cell_type": "code",
      "execution_count": null,
      "id": "2e00b25b-50e5-49a1-8c60-01eb7b6f9eb0",
      "metadata": {},
      "outputs": [],
      "source": [
        "params = {\"objective\": \"reg:squarederror\", \"tree_method\": \"hist\"}\n",
        "n = 100\n",
        "\n",
        "evals = [(dtest_reg, \"validation\"), (dtrain_reg, \"train\")]\n",
        "\n",
        "\n",
        "model = xgb.train(\n",
        "   params=params,\n",
        "   dtrain=dtrain_reg,\n",
        "   num_boost_round=n,\n",
        "   evals=evals,\n",
        "   verbose_eval=10 # Every ten rounds\n",
        ")"
      ]
    },
    {
      "cell_type": "code",
      "execution_count": null,
      "id": "3b2f6516-950a-4015-a17f-82d795f48970",
      "metadata": {},
      "outputs": [],
      "source": [
        "params = {\"objective\": \"reg:squarederror\", \"tree_method\": \"hist\"}\n",
        "n = 5000\n",
        "\n",
        "evals = [(dtest_reg, \"validation\"), (dtrain_reg, \"train\")]\n",
        "\n",
        "\n",
        "model = xgb.train(\n",
        "   params=params,\n",
        "   dtrain=dtrain_reg,\n",
        "   num_boost_round=n,\n",
        "   evals=evals,\n",
        "   verbose_eval=250\n",
        ")"
      ]
    },
    {
      "cell_type": "code",
      "execution_count": null,
      "id": "c1dc4613-d058-43e9-986a-715349e08360",
      "metadata": {},
      "outputs": [],
      "source": [
        "n = 5000\n",
        "\n",
        "model = xgb.train(\n",
        "   params=params,\n",
        "   dtrain=dtrain_reg,\n",
        "   num_boost_round=n,\n",
        "   evals=evals,\n",
        "   verbose_eval=100,\n",
        "   # Activate early stopping\n",
        "   early_stopping_rounds=50\n",
        ")"
      ]
    },
    {
      "cell_type": "code",
      "execution_count": 20,
      "id": "aa4dd401-a11e-4c8f-84ec-92766b6d0003",
      "metadata": {},
      "outputs": [],
      "source": [
        "params = {\"objective\": \"reg:squarederror\", \"tree_method\": \"hist\"}\n",
        "n = 1000\n",
        "\n",
        "results = xgb.cv(\n",
        "   params, dtrain_reg,\n",
        "   num_boost_round=n,\n",
        "   nfold=5,\n",
        "   early_stopping_rounds=20\n",
        ")"
      ]
    },
    {
      "cell_type": "code",
      "execution_count": null,
      "id": "4314b768-75af-43cf-ba18-3b68c2bf89cc",
      "metadata": {},
      "outputs": [],
      "source": [
        "results.head()"
      ]
    },
    {
      "cell_type": "code",
      "execution_count": null,
      "id": "95805caf-7671-4c4d-8861-20d960602c11",
      "metadata": {},
      "outputs": [],
      "source": [
        "best_rmse = results['test-rmse-mean'].min()\n",
        "best_rmse"
      ]
    },
    {
      "cell_type": "code",
      "execution_count": 23,
      "id": "7eaece62-2047-403b-a7ad-e85b23cb4510",
      "metadata": {},
      "outputs": [],
      "source": [
        "from sklearn.preprocessing import OrdinalEncoder\n",
        "\n",
        "X, y = diamonds.drop(\"cut\", axis=1), diamonds[['cut']]\n",
        "\n",
        "# Encode y to numeric\n",
        "y_encoded = OrdinalEncoder().fit_transform(y)\n",
        "\n",
        "# Extract text features\n",
        "cats = X.select_dtypes(exclude=np.number).columns.tolist()\n",
        "\n",
        "# Convert to pd.Categorical\n",
        "for col in cats:\n",
        "   X[col] = X[col].astype('category')\n",
        "\n",
        "# Split the data\n",
        "X_train, X_test, y_train, y_test = train_test_split(X, y_encoded, random_state=1, stratify=y_encoded)"
      ]
    },
    {
      "cell_type": "code",
      "execution_count": 24,
      "id": "c9befaf0-ec23-4d26-949e-528055ee574b",
      "metadata": {},
      "outputs": [],
      "source": [
        "# Create classification matrices\n",
        "dtrain_clf = xgb.DMatrix(X_train, y_train, enable_categorical=True)\n",
        "dtest_clf = xgb.DMatrix(X_test, y_test, enable_categorical=True)"
      ]
    },
    {
      "cell_type": "code",
      "execution_count": 25,
      "id": "facfe124-1714-40d6-aece-a326b94d9b1d",
      "metadata": {},
      "outputs": [],
      "source": [
        "params = {\"objective\": \"multi:softprob\", \"tree_method\": \"hist\", \"num_class\": 5}\n",
        "n = 1000\n",
        "\n",
        "results = xgb.cv(\n",
        "   params, dtrain_clf,\n",
        "   num_boost_round=n,\n",
        "   nfold=5,\n",
        "   metrics=[\"mlogloss\", \"auc\", \"merror\"],\n",
        ")"
      ]
    },
    {
      "cell_type": "code",
      "execution_count": null,
      "id": "8d5b6b10-4942-4a23-870f-8cdf9e2e3e54",
      "metadata": {},
      "outputs": [],
      "source": [
        "results.keys()"
      ]
    },
    {
      "cell_type": "code",
      "execution_count": null,
      "id": "42e66f7f-57c3-4500-8cf3-6db55f4c2691",
      "metadata": {},
      "outputs": [],
      "source": [
        "results['test-auc-mean'].max()"
      ]
    },
    {
      "cell_type": "code",
      "execution_count": 28,
      "id": "7a0b2588-79b7-44ef-98b4-bbe7e06d6f5b",
      "metadata": {},
      "outputs": [],
      "source": [
        "import xgboost as xgb\n",
        "\n",
        "# Train a model using the scikit-learn API\n",
        "xgb_classifier = xgb.XGBClassifier(n_estimators=100, objective='binary:logistic', tree_method='hist', eta=0.1, max_depth=3, enable_categorical=True)\n",
        "xgb_classifier.fit(X_train, y_train)\n",
        "\n",
        "# Convert the model to a native API model\n",
        "model = xgb_classifier.get_booster()"
      ]
    }
  ],
  "metadata": {
    "editor": "DataCamp Workspace",
    "kernelspec": {
      "display_name": "mitic",
      "language": "python",
      "name": "python3"
    },
    "language_info": {
      "codemirror_mode": {
        "name": "ipython",
        "version": 3
      },
      "file_extension": ".py",
      "mimetype": "text/x-python",
      "name": "python",
      "nbconvert_exporter": "python",
      "pygments_lexer": "ipython3",
      "version": "3.12.7"
    }
  },
  "nbformat": 4,
  "nbformat_minor": 5
}
